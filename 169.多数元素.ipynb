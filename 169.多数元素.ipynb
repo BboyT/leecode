{
 "cells": [
  {
   "cell_type": "markdown",
   "metadata": {},
   "source": [
    "## 多数元素\n",
    "给定一个大小为 n 的数组，找到其中的多数元素。多数元素是指在数组中出现次数大于 ⌊ n/2 ⌋ 的元素。\n",
    "\n",
    "你可以假设数组是非空的，并且给定的数组总是存在多数元素。\n"
   ]
  },
  {
   "cell_type": "markdown",
   "metadata": {},
   "source": [
    "输入: [3,2,3]\n",
    "\n",
    "输出: 3"
   ]
  },
  {
   "cell_type": "markdown",
   "metadata": {},
   "source": [
    "输入: [2,2,1,1,1,2,2]\n",
    "\n",
    "输出: 2"
   ]
  },
  {
   "cell_type": "code",
   "execution_count": 12,
   "metadata": {},
   "outputs": [
    {
     "data": {
      "text/plain": [
       "4"
      ]
     },
     "execution_count": 12,
     "metadata": {},
     "output_type": "execute_result"
    }
   ],
   "source": [
    "def majorityElement(self, *nums):\n",
    "    mid = len(nums) // 2     # 数组长度的一半\n",
    "    dic = {}          # 定义字典\n",
    "    for i in range(len(nums)):      # 循环遍历\n",
    "        if nums[i] not in dic:      # 若元素不在字典中，添加到字典中\n",
    "            dic[nums[i]] = 1\n",
    "        else:                       # 若元素在字典中，其Value加一\n",
    "            dic[nums[i]] += 1\n",
    "        if dic[nums[i]] > mid:      # 如果某Value值大于mid，则为多数元素，\n",
    "             return nums[i]\n",
    "    print(nums[i])\n",
    "\n",
    "majorityElement(2,1,2,1,2,3,2,4,4,4,4,4,4,4)    "
   ]
  },
  {
   "cell_type": "code",
   "execution_count": null,
   "metadata": {},
   "outputs": [],
   "source": []
  },
  {
   "cell_type": "code",
   "execution_count": null,
   "metadata": {},
   "outputs": [],
   "source": []
  },
  {
   "cell_type": "code",
   "execution_count": null,
   "metadata": {},
   "outputs": [],
   "source": []
  }
 ],
 "metadata": {
  "kernelspec": {
   "display_name": "Python 3",
   "language": "python",
   "name": "python3"
  },
  "language_info": {
   "codemirror_mode": {
    "name": "ipython",
    "version": 3
   },
   "file_extension": ".py",
   "mimetype": "text/x-python",
   "name": "python",
   "nbconvert_exporter": "python",
   "pygments_lexer": "ipython3",
   "version": "3.6.9"
  }
 },
 "nbformat": 4,
 "nbformat_minor": 2
}
