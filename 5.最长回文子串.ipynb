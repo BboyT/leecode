{
 "cells": [
  {
   "cell_type": "markdown",
   "metadata": {},
   "source": [
    "给定一个字符串 s，找到 s 中最长的回文子串。你可以假设 s 的最大长度为 1000。"
   ]
  },
  {
   "cell_type": "markdown",
   "metadata": {},
   "source": [
    "作者：LeetCode-Solution\n",
    "\n",
    "链接：https://leetcode-cn.com/problems/longest-palindromic-substring/solution/zui-chang-hui-wen-zi-chuan-by-leetcode-solution/\n",
    "\n",
    "来源：力扣（LeetCode）"
   ]
  },
  {
   "cell_type": "markdown",
   "metadata": {},
   "source": [
    "### 示例一\n",
    "输入: \"babad\"\n",
    "    \n",
    "输出: \"bab\"\n",
    "    \n",
    "注意: \"aba\" 也是一个有效答案。"
   ]
  },
  {
   "cell_type": "markdown",
   "metadata": {},
   "source": [
    "### 示例二\n",
    "\n",
    "输入: \"cbbd\"\n",
    "\n",
    "输出: \"bb\""
   ]
  },
  {
   "cell_type": "markdown",
   "metadata": {},
   "source": [
    "思路：对于一个子串而言，如果它是回文串，并且长度大于 22，那么将它首尾的两个字母去除之后，它仍然是个回文串.\n",
    "\n",
    "边界条件:奇数，最后自然为回文串；偶数，最后两个字母相同，它就是一个回文串。"
   ]
  },
  {
   "cell_type": "code",
   "execution_count": 12,
   "metadata": {},
   "outputs": [
    {
     "data": {
      "text/plain": [
       "'ss'"
      ]
     },
     "execution_count": 12,
     "metadata": {},
     "output_type": "execute_result"
    }
   ],
   "source": [
    " def longestPalindrome(strings):\n",
    "        dp = [[False] * len(strings) for _ in range(len(strings))]\n",
    "        ans = \"\"\n",
    "        # 枚举子串的长度 l+1\n",
    "        for l in range(len(strings)):\n",
    "            # 枚举子串的起始位置 i，这样可以通过 j=i+l 得到子串的结束位置\n",
    "            for i in range(len(strings)):\n",
    "                j = i + l\n",
    "                if j >= len(strings):\n",
    "                    break\n",
    "                if l == 0:\n",
    "                    dp[i][j] = True\n",
    "                elif l == 1:\n",
    "                    dp[i][j] = (strings[i] == strings[j])\n",
    "                else:\n",
    "                    dp[i][j] = (dp[i + 1][j - 1] and strings[i] == strings[j])\n",
    "                if dp[i][j] and l + 1 > len(ans):\n",
    "                    ans = strings[i:j+1]\n",
    "        return ans\n",
    "\n",
    "    "
   ]
  },
  {
   "cell_type": "markdown",
   "metadata": {},
   "source": [
    "### 中心扩展算法"
   ]
  },
  {
   "cell_type": "code",
   "execution_count": 5,
   "metadata": {},
   "outputs": [
    {
     "data": {
      "text/plain": [
       "'dddd'"
      ]
     },
     "execution_count": 5,
     "metadata": {},
     "output_type": "execute_result"
    }
   ],
   "source": [
    "def expandAroundCenter(strings, left, right):\n",
    "    while left >= 0 and right < len(strings) and strings[left] == strings[right]:\n",
    "        left -= 1\n",
    "        right += 1\n",
    "    return left + 1, right - 1\n",
    "\n",
    "def longestPalindrome(strings):\n",
    "    start, end = 0, 0\n",
    "    for i in range(len(strings)):\n",
    "        left1, right1 = expandAroundCenter(strings, i, i)\n",
    "        left2, right2 = expandAroundCenter(strings, i, i + 1)\n",
    "        if right1 - left1 > end - start:\n",
    "            start, end = left1, right1\n",
    "        if right2 - left2 > end - start:\n",
    "            start, end = left2, right2\n",
    "    return strings[start: end + 1]\n",
    "\n",
    "longestPalindrome(\"sassdddd\")"
   ]
  },
  {
   "cell_type": "markdown",
   "metadata": {},
   "source": [
    "### Manacher 算法\n",
    "待定"
   ]
  },
  {
   "cell_type": "code",
   "execution_count": null,
   "metadata": {},
   "outputs": [],
   "source": []
  },
  {
   "cell_type": "code",
   "execution_count": null,
   "metadata": {},
   "outputs": [],
   "source": []
  },
  {
   "cell_type": "code",
   "execution_count": null,
   "metadata": {},
   "outputs": [],
   "source": []
  },
  {
   "cell_type": "code",
   "execution_count": null,
   "metadata": {},
   "outputs": [],
   "source": []
  },
  {
   "cell_type": "code",
   "execution_count": null,
   "metadata": {},
   "outputs": [],
   "source": []
  },
  {
   "cell_type": "code",
   "execution_count": null,
   "metadata": {},
   "outputs": [],
   "source": []
  },
  {
   "cell_type": "code",
   "execution_count": null,
   "metadata": {},
   "outputs": [],
   "source": []
  },
  {
   "cell_type": "code",
   "execution_count": null,
   "metadata": {},
   "outputs": [],
   "source": []
  },
  {
   "cell_type": "code",
   "execution_count": null,
   "metadata": {},
   "outputs": [],
   "source": []
  }
 ],
 "metadata": {
  "kernelspec": {
   "display_name": "Python 3",
   "language": "python",
   "name": "python3"
  },
  "language_info": {
   "codemirror_mode": {
    "name": "ipython",
    "version": 3
   },
   "file_extension": ".py",
   "mimetype": "text/x-python",
   "name": "python",
   "nbconvert_exporter": "python",
   "pygments_lexer": "ipython3",
   "version": "3.6.9"
  }
 },
 "nbformat": 4,
 "nbformat_minor": 2
}
