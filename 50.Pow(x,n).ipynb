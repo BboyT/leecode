{
 "cells": [
  {
   "cell_type": "markdown",
   "metadata": {},
   "source": [
    "# 实现pow(x,n),即计算x的n次幂函数"
   ]
  },
  {
   "cell_type": "markdown",
   "metadata": {},
   "source": [
    "### 示例\n",
    "输入: 2.00000, 10\n",
    "\n",
    "输出: 1024.00000"
   ]
  },
  {
   "cell_type": "code",
   "execution_count": 62,
   "metadata": {},
   "outputs": [
    {
     "name": "stdout",
     "output_type": "stream",
     "text": [
      "输入： 2.00000 , -2\n",
      "输出： 0.25000\n"
     ]
    }
   ],
   "source": [
    "def pow(a,b):\n",
    "    print(\"输入：\", '%.5f' % a,\",\",b)\n",
    "    s = 1\n",
    "    if a == 0 & (b < 0):\n",
    "        print(\"无效输入\")\n",
    "    else:\n",
    "        d = abs(b)\n",
    "        while d >0:\n",
    "            d = d - 1\n",
    "            s = s*a\n",
    "        if b >0:\n",
    "            print(\"输出：\",'%.5f' % s)\n",
    "        else:\n",
    "            s = 1.0/s\n",
    "            print(r\"输出：\",'%.5f' % s)\n",
    "        \n",
    "pow(2,-2)"
   ]
  },
  {
   "cell_type": "code",
   "execution_count": null,
   "metadata": {
    "scrolled": true
   },
   "outputs": [],
   "source": []
  },
  {
   "cell_type": "code",
   "execution_count": null,
   "metadata": {},
   "outputs": [],
   "source": []
  },
  {
   "cell_type": "code",
   "execution_count": null,
   "metadata": {},
   "outputs": [],
   "source": []
  }
 ],
 "metadata": {
  "kernelspec": {
   "display_name": "Python 3",
   "language": "python",
   "name": "python3"
  },
  "language_info": {
   "codemirror_mode": {
    "name": "ipython",
    "version": 3
   },
   "file_extension": ".py",
   "mimetype": "text/x-python",
   "name": "python",
   "nbconvert_exporter": "python",
   "pygments_lexer": "ipython3",
   "version": "3.6.9"
  }
 },
 "nbformat": 4,
 "nbformat_minor": 2
}
