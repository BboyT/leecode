{
 "cells": [
  {
   "cell_type": "markdown",
   "metadata": {},
   "source": [
    "## 示例\n",
    "输入: [-2,1,-3,4,-1,2,1,-5,4]\n",
    "\n",
    "输出: 6\n",
    "\n",
    "解释: 连续子数组 [4,-1,2,1] 的和最大，为 6。"
   ]
  },
  {
   "cell_type": "code",
   "execution_count": 3,
   "metadata": {},
   "outputs": [
    {
     "data": {
      "text/plain": [
       "6"
      ]
     },
     "execution_count": 3,
     "metadata": {},
     "output_type": "execute_result"
    }
   ],
   "source": [
    "def maxSubArray(nums):\n",
    "    cur_max = 0\n",
    "    maxsum = nums[0]\n",
    "    for i in range(len(nums)):\n",
    "        a+= nums[i]\n",
    "        maxsum = max(maxsum, a)\n",
    "        if a < 0:\n",
    "            a = 0\n",
    "    return maxsum\n",
    "\n",
    "maxSubArray(4,-1,2,1)\n"
   ]
  },
  {
   "cell_type": "code",
   "execution_count": 6,
   "metadata": {},
   "outputs": [
    {
     "data": {
      "text/plain": [
       "12"
      ]
     },
     "execution_count": 6,
     "metadata": {},
     "output_type": "execute_result"
    }
   ],
   "source": []
  },
  {
   "cell_type": "markdown",
   "metadata": {},
   "source": [
    "（以下参考https://zhuanlan.zhihu.com/p/105368673）"
   ]
  },
  {
   "cell_type": "markdown",
   "metadata": {},
   "source": [
    "### 直观解法"
   ]
  },
  {
   "cell_type": "markdown",
   "metadata": {},
   "source": [
    "A、如果array[j]>=0，那么我们array[i:j+1]必是一个更优解；于是我们可以把array[j]累加到cur_sum中，保存cur_sum与max_sum之较大者到max_sum，并继续往前走。相当于如果array[j] >= 0, S(j) = S(j-1) + S(j)。\n",
    "\n",
    "B、如果array[j]<0，那么cur_sum必是一个局部最优解，保存cur_sum与max_sum之较大者到max_sum。之后，我们将array[j]累加到cur_sum上，如果cur_sum>=0，那么可以断续向前探索；如果cur_sum<0，则放弃array[i:j+1]的结果，即令cur_sum=0，并从array[j+1]开始探索。"
   ]
  },
  {
   "cell_type": "code",
   "execution_count": 8,
   "metadata": {},
   "outputs": [
    {
     "data": {
      "text/plain": [
       "12"
      ]
     },
     "execution_count": 8,
     "metadata": {},
     "output_type": "execute_result"
    }
   ],
   "source": [
    "def maxSubArraySum(array):\n",
    "    if not array:\n",
    "        return 0\n",
    "\n",
    "    max_sum = array[0]\n",
    "    cur_sum = 0\n",
    "\n",
    "    for v in array:\n",
    "        if v >= 0:\n",
    "            cur_sum += v\n",
    "            max_sum = max(max_sum, cur_sum)\n",
    "        else:\n",
    "            if cur_sum > 0:\n",
    "                max_sum = max(max_sum, cur_sum)\n",
    "            elif v > max_sum:\n",
    "                max_sum = v\n",
    "\n",
    "            cur_sum += v\n",
    "            if cur_sum < 0:\n",
    "                cur_sum = 0\n",
    "\n",
    "    return max_sum\n",
    "\n",
    "maxSubArray(-2,1,2,3,6)"
   ]
  },
  {
   "cell_type": "markdown",
   "metadata": {},
   "source": [
    "### 贪心算法"
   ]
  },
  {
   "cell_type": "markdown",
   "metadata": {},
   "source": [
    "贪心算法是一个更为容易理解的思路。假设我们已经求得一个局部子序和cur_sum，其初始值是array[0]。对于每第i个元素，cur_sum与cur_sum+array[i]的较大者，就是处理完元素i之后的局部最优解。每次用max_sum存储max_sum和cur_sum之较大者，最终就可以得到全局最优解。\n",
    "\n",
    "总结成人话就是：S(i)=max(S(i), S(i-1) + array[i])"
   ]
  },
  {
   "cell_type": "code",
   "execution_count": 19,
   "metadata": {},
   "outputs": [
    {
     "data": {
      "text/plain": [
       "6"
      ]
     },
     "execution_count": 19,
     "metadata": {},
     "output_type": "execute_result"
    }
   ],
   "source": [
    "def maxSubArraySum(array):\n",
    "    if not array:\n",
    "        return 0\n",
    "\n",
    "    max_sum = array[0]  # 全局最优解\n",
    "    cur_sum = max_sum   # 局部最优解\n",
    "\n",
    "    for i in range(1, len(array)):\n",
    "        v = array[i]\n",
    "        cur_sum = max(v, cur_sum + v)\n",
    "        max_sum = max(max_sum, cur_sum)\n",
    "\n",
    "    return max_sum\n",
    "\n",
    "maxSubArray(-2,1,2,3,-6)"
   ]
  },
  {
   "cell_type": "code",
   "execution_count": null,
   "metadata": {},
   "outputs": [],
   "source": [
    "def maxSubArray(nums):\n",
    "    nums = list(nums)\n",
    "    nums[0] = nums[0]\n",
    "    for i in range(1,len(nums)):\n",
    "        subMaxSum = max(nums[i]+nums[i-1],nums[i])\n",
    "        nums[i]=subMaxSum \n",
    "    return max(nums)\n",
    "\n",
    "maxSubArray(1,2,3,6)"
   ]
  },
  {
   "cell_type": "markdown",
   "metadata": {},
   "source": [
    "### 动态规划\n",
    "动态规划最在局部最优解中求得全局最优解的通用方法。\n",
    "\n",
    "动态规划和贪心算法最大的区别在于，贪心算总是只记录当前局部最优解和全局最优解；而动态规划则记录所有的局部最优解。由于巧合，本题目用贪心算法和动态规则的代码实现很接近，但读者要明白它们的核心思路和应用场景是不一样的。"
   ]
  },
  {
   "cell_type": "code",
   "execution_count": 18,
   "metadata": {},
   "outputs": [
    {
     "data": {
      "text/plain": [
       "12"
      ]
     },
     "execution_count": 18,
     "metadata": {},
     "output_type": "execute_result"
    }
   ],
   "source": [
    "def maxSubArraySum(array):\n",
    "    if not array:\n",
    "        return 0\n",
    "    max_sum = array[0]  # 全局最优解\n",
    "\n",
    "    for i in range(1, len(array)):\n",
    "        array[i] = max(array[i - 1] + array[i], array[i])\n",
    "        max_sum = max(max_sum, array[i])\n",
    "\n",
    "    return max_sum\n",
    "maxSubArray(-2,1,2,3,0,6,-9)"
   ]
  },
  {
   "cell_type": "markdown",
   "metadata": {},
   "source": [
    "### 分治法"
   ]
  },
  {
   "cell_type": "markdown",
   "metadata": {},
   "source": [
    "对于array的子集array[left:right]，给定下标m(left<=m<right)，我们利用贪心算法的思路，以m以中心，从两边出发，求得包含m的最大子序和。也就是求得x使得array[x:m+1]的最大，再求得y，使array[m+1,y]的和最大。那么array[x:y]的和就是包含元素m的连续最大子序集。我们将array[x:y]的和称为flank_sum，那么array[left:rignt]的最大子序和必是以下三个情况之一：\n",
    "\n",
    "    1、左子集array[left:m+1] 中的最优解（分治左子集）\n",
    "    \n",
    "    2、右子集array[m+1:right]中的最优解（分治右子集）\n",
    "    \n",
    "    3、flank_sum"
   ]
  },
  {
   "cell_type": "code",
   "execution_count": null,
   "metadata": {},
   "outputs": [],
   "source": [
    "def flankSum(array, left, right, p):\n",
    "    # 在 [left, right]范围内，求包含P元素的最大连续子序和\n",
    "    #\n",
    "    if left == right:\n",
    "        return array[left]\n",
    "\n",
    "    left_sum = array[p]\n",
    "    cur_sum = 0 \n",
    "    for i in range(p, left - 1, -1):\n",
    "        cur_sum += array[i]\n",
    "        left_sum = max(left_sum, cur_sum)\n",
    "\n",
    "    right_sum = array[p + 1]\n",
    "    cur_sum = 0\n",
    "    for i in range(p + 1, right + 1):\n",
    "        cur_sum += array[i]\n",
    "        right_sum = max(right_sum, cur_sum)\n",
    "\n",
    "    return left_sum + right_sum\n",
    "\n",
    "def devideAndConquer(array, left, right):\n",
    "    if left == right:\n",
    "        return array[left]\n",
    "\n",
    "    p = (left + right) // 2\n",
    "    left_result = devideAndConquer(array, left, p) # 分治求P左侧的解\n",
    "    right_result = devideAndConquer(array, p + 1, right) # 分治求P右侧的解\n",
    "    flank_sum = flankSum(array, left, right, p) # 求含P元素的最大连续子序和\n",
    "\n",
    "    return max(left_result, right_result, flank_sum)\n",
    "\n",
    "def maxSubArraySum(array):\n",
    "    size = len(array)\n",
    "    if size <= 1: array[0]\n",
    "\n",
    "    return devideAndConquer(array, 0, size - 1)"
   ]
  },
  {
   "cell_type": "code",
   "execution_count": null,
   "metadata": {},
   "outputs": [],
   "source": []
  },
  {
   "cell_type": "code",
   "execution_count": null,
   "metadata": {},
   "outputs": [],
   "source": []
  },
  {
   "cell_type": "code",
   "execution_count": null,
   "metadata": {},
   "outputs": [],
   "source": []
  }
 ],
 "metadata": {
  "kernelspec": {
   "display_name": "Python 3",
   "language": "python",
   "name": "python3"
  },
  "language_info": {
   "codemirror_mode": {
    "name": "ipython",
    "version": 3
   },
   "file_extension": ".py",
   "mimetype": "text/x-python",
   "name": "python",
   "nbconvert_exporter": "python",
   "pygments_lexer": "ipython3",
   "version": "3.6.9"
  }
 },
 "nbformat": 4,
 "nbformat_minor": 2
}
