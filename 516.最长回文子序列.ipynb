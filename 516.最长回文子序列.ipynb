{
 "cells": [
  {
   "cell_type": "markdown",
   "metadata": {},
   "source": [
    "给定一个字符串 s ，找到其中最长的回文子序列，并返回该序列的长度。可以假设 s 的最大长度为 1000 "
   ]
  },
  {
   "cell_type": "markdown",
   "metadata": {},
   "source": [
    "### 示例1"
   ]
  },
  {
   "cell_type": "markdown",
   "metadata": {},
   "source": [
    "输入：\"bbbab\"\n",
    "\n",
    "输出：4\n",
    "\n",
    "一个可能的最长回文子序列为\"bbbb\""
   ]
  },
  {
   "cell_type": "markdown",
   "metadata": {},
   "source": [
    "### 示例2"
   ]
  },
  {
   "cell_type": "markdown",
   "metadata": {},
   "source": [
    "输入：\"cbbd\"\n",
    "\n",
    "输出：2\n",
    "\n",
    "一个可能的最长回文子序列为\"bb\""
   ]
  },
  {
   "cell_type": "code",
   "execution_count": 13,
   "metadata": {},
   "outputs": [
    {
     "data": {
      "text/plain": [
       "4"
      ]
     },
     "execution_count": 13,
     "metadata": {},
     "output_type": "execute_result"
    }
   ],
   "source": [
    "def longestPalindromeSubseq(strings):\n",
    "\n",
    "    dp = [[0]*len(strings) for _ in range(len(strings))]\n",
    "    for i in range(len(strings)):\n",
    "        dp[i][i] = 1\n",
    "    \n",
    "    for i in range(len(strings)-1, -1, -1):\n",
    "        for j in range(i+1, len(strings)):\n",
    "            if strings[i] == strings[j]:\n",
    "                dp[i][j] = dp[i+1][j-1] + 2\n",
    "            else:\n",
    "                dp[i][j] = max(dp[i][j-1], dp[i+1][j])\n",
    "    \n",
    "    return dp[0][len(strings)-1]\n",
    "\n",
    "strings = \"bbbab\"\n",
    "longestPalindromeSubseq(strings)"
   ]
  },
  {
   "cell_type": "code",
   "execution_count": null,
   "metadata": {},
   "outputs": [],
   "source": []
  },
  {
   "cell_type": "code",
   "execution_count": null,
   "metadata": {},
   "outputs": [],
   "source": []
  },
  {
   "cell_type": "code",
   "execution_count": null,
   "metadata": {},
   "outputs": [],
   "source": []
  },
  {
   "cell_type": "code",
   "execution_count": null,
   "metadata": {},
   "outputs": [],
   "source": []
  }
 ],
 "metadata": {
  "kernelspec": {
   "display_name": "Python 3",
   "language": "python",
   "name": "python3"
  },
  "language_info": {
   "codemirror_mode": {
    "name": "ipython",
    "version": 3
   },
   "file_extension": ".py",
   "mimetype": "text/x-python",
   "name": "python",
   "nbconvert_exporter": "python",
   "pygments_lexer": "ipython3",
   "version": "3.6.9"
  }
 },
 "nbformat": 4,
 "nbformat_minor": 2
}
