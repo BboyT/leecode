{
 "cells": [
  {
   "cell_type": "markdown",
   "metadata": {},
   "source": [
    "给定一个未经排序的整数数组，找到最长且连续增大的的递增序列，并返回该序列的长度。"
   ]
  },
  {
   "cell_type": "markdown",
   "metadata": {},
   "source": [
    "### 示例1"
   ]
  },
  {
   "cell_type": "markdown",
   "metadata": {},
   "source": [
    "输入: [1,3,5,4,7]\n",
    "\n",
    "输出: 3\n",
    "\n",
    "解释: 最长连续递增序列是 [1,3,5], 长度为3。\n",
    "\n",
    "尽管 [1,3,5,7] 也是升序的子序列, 但它不是连续的，因为5和7在原数组里被4隔开。"
   ]
  },
  {
   "cell_type": "markdown",
   "metadata": {},
   "source": [
    "### 示例2"
   ]
  },
  {
   "cell_type": "markdown",
   "metadata": {},
   "source": [
    "输入: [2,2,2,2,2]\n",
    "\n",
    "输出: 1\n",
    "\n",
    "解释: 最长连续递增序列是 [2], 长度为1。"
   ]
  },
  {
   "cell_type": "code",
   "execution_count": 1,
   "metadata": {},
   "outputs": [
    {
     "data": {
      "text/plain": [
       "0"
      ]
     },
     "execution_count": 1,
     "metadata": {},
     "output_type": "execute_result"
    }
   ],
   "source": [
    "def findLengthOfLCIS(nums):\n",
    "    ans = anchor = 0\n",
    "    for i in range(len(nums)):\n",
    "        if i and nums[i-1] >= nums[i]: anchor = i\n",
    "        ans = max(ans, i - anchor + 1)\n",
    "    return ans\n",
    "\n",
    "nums = []\n",
    "findLengthOfLCIS(nums)"
   ]
  },
  {
   "cell_type": "code",
   "execution_count": 3,
   "metadata": {},
   "outputs": [
    {
     "data": {
      "text/plain": [
       "3"
      ]
     },
     "execution_count": 3,
     "metadata": {},
     "output_type": "execute_result"
    }
   ],
   "source": [
    "def findLengthOfLCIS(nums):\n",
    "    if not nums:\n",
    "        return 0\n",
    "    length = 1\n",
    "    maxlength = 1\n",
    "    for i in range(1,len(nums)):\n",
    "        if nums[i] > nums[i-1]:\n",
    "            length+= 1\n",
    "            if length > maxlength:\n",
    "                maxlength = length\n",
    "        else:\n",
    "            length = 1\n",
    "    return maxlength\n",
    "\n",
    "nums = [1,3,5,4,7]\n",
    "findLengthOfLCIS(nums)"
   ]
  }
 ],
 "metadata": {
  "kernelspec": {
   "display_name": "Python 3",
   "language": "python",
   "name": "python3"
  },
  "language_info": {
   "codemirror_mode": {
    "name": "ipython",
    "version": 3
   },
   "file_extension": ".py",
   "mimetype": "text/x-python",
   "name": "python",
   "nbconvert_exporter": "python",
   "pygments_lexer": "ipython3",
   "version": "3.6.9"
  }
 },
 "nbformat": 4,
 "nbformat_minor": 2
}
