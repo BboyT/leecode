{
 "cells": [
  {
   "cell_type": "markdown",
   "metadata": {},
   "source": [
    "给你两个单词word1和word2，请你计算出将word1转换成word2所使用的最少操作数。\n",
    "\n",
    "你可以对一个单词进行如下三种操作：\n",
    "\n",
    "   1.插入一个字符\n",
    "   \n",
    "   2.删除一个字符\n",
    "   \n",
    "   3.替换一个字符"
   ]
  },
  {
   "cell_type": "markdown",
   "metadata": {},
   "source": [
    "### 示例1"
   ]
  },
  {
   "cell_type": "markdown",
   "metadata": {},
   "source": [
    "输入：word1 = \"horse\", word2 = \"ros\"\n",
    "\n",
    "输出：3\n",
    "\n",
    "解释：\n",
    "\n",
    "horse -> rorse (将 'h' 替换为 'r')\n",
    "\n",
    "rorse -> rose (删除 'r')\n",
    "\n",
    "rose -> ros (删除 'e')"
   ]
  },
  {
   "cell_type": "markdown",
   "metadata": {},
   "source": [
    "### 示例2"
   ]
  },
  {
   "cell_type": "markdown",
   "metadata": {},
   "source": [
    "输入：word1 = \"intention\", word2 = \"execution\"\n",
    "\n",
    "输出：5\n",
    "\n",
    "解释：\n",
    "\n",
    "intention -> inention (删除 't')\n",
    "\n",
    "inention -> enention (将 'i' 替换为 'e')\n",
    "\n",
    "enention -> exention (将 'n' 替换为 'x')\n",
    "\n",
    "exention -> exection (将 'n' 替换为 'c')\n",
    "\n",
    "exection -> execution (插入 'u')"
   ]
  },
  {
   "cell_type": "code",
   "execution_count": null,
   "metadata": {},
   "outputs": [],
   "source": [
    "def minDistance( word1, word2):\n",
    "        \"\"\"\n",
    "        :type word1: str\n",
    "        :type word2: str\n",
    "        :rtype: int\n",
    "        \"\"\"\n",
    "    n = len(word1)\n",
    "    m = len(word2)\n",
    "    \n",
    "    # 有一个字符串为空串\n",
    "    if n * m == 0:\n",
    "        return n + m\n",
    "    \n",
    "    # DP 数组\n",
    "    D = [ [0] * (m + 1) for _ in range(n + 1)]\n",
    "    \n",
    "    # 边界状态初始化\n",
    "    for i in range(n + 1):\n",
    "        D[i][0] = i\n",
    "    for j in range(m + 1):\n",
    "        D[0][j] = j\n",
    "    \n",
    "    # 计算所有 DP 值\n",
    "    for i in range(1, n + 1):\n",
    "        for j in range(1, m + 1):\n",
    "            left = D[i - 1][j] + 1\n",
    "            down = D[i][j - 1] + 1\n",
    "            left_down = D[i - 1][j - 1] \n",
    "            if word1[i - 1] != word2[j - 1]:\n",
    "                left_down += 1\n",
    "            D[i][j] = min(left, down, left_down)\n",
    "    \n",
    "    return D[n][m]\n"
   ]
  },
  {
   "cell_type": "code",
   "execution_count": null,
   "metadata": {},
   "outputs": [],
   "source": []
  },
  {
   "cell_type": "code",
   "execution_count": null,
   "metadata": {},
   "outputs": [],
   "source": []
  },
  {
   "cell_type": "code",
   "execution_count": null,
   "metadata": {},
   "outputs": [],
   "source": []
  },
  {
   "cell_type": "code",
   "execution_count": null,
   "metadata": {},
   "outputs": [],
   "source": []
  },
  {
   "cell_type": "code",
   "execution_count": null,
   "metadata": {},
   "outputs": [],
   "source": []
  },
  {
   "cell_type": "code",
   "execution_count": null,
   "metadata": {},
   "outputs": [],
   "source": []
  }
 ],
 "metadata": {
  "kernelspec": {
   "display_name": "Python 3",
   "language": "python",
   "name": "python3"
  },
  "language_info": {
   "codemirror_mode": {
    "name": "ipython",
    "version": 3
   },
   "file_extension": ".py",
   "mimetype": "text/x-python",
   "name": "python",
   "nbconvert_exporter": "python",
   "pygments_lexer": "ipython3",
   "version": "3.6.9"
  }
 },
 "nbformat": 4,
 "nbformat_minor": 2
}
