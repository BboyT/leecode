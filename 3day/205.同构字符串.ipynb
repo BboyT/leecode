{
 "cells": [
  {
   "cell_type": "markdown",
   "metadata": {},
   "source": [
    "给定两个字符串 s 和 t，判断它们是否是同构的。\n",
    "\n",
    "如果 s 中的字符可以被替换得到 t ，那么这两个字符串是同构的。\n",
    "\n",
    "所有出现的字符都必须用另一个字符替换，同时保留字符的顺序。两个字符不能映射到同一个字符上，但字符可以映射自己本身。"
   ]
  },
  {
   "cell_type": "code",
   "execution_count": 7,
   "metadata": {},
   "outputs": [
    {
     "data": {
      "text/plain": [
       "True"
      ]
     },
     "execution_count": 7,
     "metadata": {},
     "output_type": "execute_result"
    }
   ],
   "source": [
    "def isIsomorphic( s: str, t: str):\n",
    "    dct = {}\n",
    "    for i in range(len(s)):\n",
    "        if s[i] not in dct:\n",
    "            if t[i] in dct.values():\n",
    "                return False\n",
    "            dct[s[i]] = t[i]\n",
    "        else:\n",
    "            if dct[s[i]] != t[i]:\n",
    "                return False\n",
    "    return True\n",
    "isIsomorphic(s = \"key\",t = \"joy\")"
   ]
  },
  {
   "cell_type": "code",
   "execution_count": null,
   "metadata": {},
   "outputs": [],
   "source": [
    "def isIsomorphic(self, s: str, t: str) -> bool:\n",
    "        return [*map(s.index, s)] == [*map(t.index, t)]\n",
    "\n",
    "作者：QQqun902025048"
   ]
  },
  {
   "cell_type": "code",
   "execution_count": null,
   "metadata": {},
   "outputs": [],
   "source": []
  },
  {
   "cell_type": "code",
   "execution_count": null,
   "metadata": {},
   "outputs": [],
   "source": []
  }
 ],
 "metadata": {
  "kernelspec": {
   "display_name": "Python 3",
   "language": "python",
   "name": "python3"
  },
  "language_info": {
   "codemirror_mode": {
    "name": "ipython",
    "version": 3
   },
   "file_extension": ".py",
   "mimetype": "text/x-python",
   "name": "python",
   "nbconvert_exporter": "python",
   "pygments_lexer": "ipython3",
   "version": "3.6.9"
  }
 },
 "nbformat": 4,
 "nbformat_minor": 2
}
