{
 "cells": [
  {
   "cell_type": "markdown",
   "metadata": {},
   "source": [
    "给定两个数组，编写一个函数来计算它们的交集。"
   ]
  },
  {
   "cell_type": "markdown",
   "metadata": {},
   "source": [
    "* 如果给定的数组已经排好序呢？你将如何优化你的算法？\n",
    "* 如果 nums1 的大小比 nums2 小很多，哪种方法更优？\n",
    "* 如果 nums2 的元素存储在磁盘上，内存是有限的，并且你不能一次加载所有的元素到内存中，你该怎么办？"
   ]
  },
  {
   "cell_type": "code",
   "execution_count": null,
   "metadata": {},
   "outputs": [],
   "source": [
    "class Solution:\n",
    "    def intersect(self, nums1: List[int], nums2: List[int]) -> List[int]:\n",
    "        if len(nums1) > len(nums2):\n",
    "            return self.intersect(nums2, nums1)\n",
    "        \n",
    "        m = collections.Counter()\n",
    "        for num in nums1:\n",
    "            m[num] += 1\n",
    "        \n",
    "        intersection = list()\n",
    "        for num in nums2:\n",
    "            if (count := m.get(num, 0)) > 0:\n",
    "                intersection.append(num)\n",
    "                m[num] -= 1\n",
    "                if m[num] == 0:\n",
    "                    m.pop(num)\n",
    "        \n",
    "        return intersection\n"
   ]
  },
  {
   "cell_type": "code",
   "execution_count": null,
   "metadata": {},
   "outputs": [],
   "source": [
    "class Solution:\n",
    "    def intersect(self, nums1: List[int], nums2: List[int]) -> List[int]:\n",
    "        nums1.sort()\n",
    "        nums2.sort()\n",
    "\n",
    "        length1, length2 = len(nums1), len(nums2)\n",
    "        intersection = list()\n",
    "        index1 = index2 = 0\n",
    "        while index1 < length1 and index2 < length2:\n",
    "            if nums1[index1] < nums2[index2]:\n",
    "                index1 += 1\n",
    "            elif nums1[index1] > nums2[index2]:\n",
    "                index2 += 1\n",
    "            else:\n",
    "                intersection.append(nums1[index1])\n",
    "                index1 += 1\n",
    "                index2 += 1\n",
    "        \n",
    "        return intersection\n"
   ]
  },
  {
   "cell_type": "code",
   "execution_count": null,
   "metadata": {},
   "outputs": [],
   "source": [
    "class Solution:\n",
    "    def intersect(self, nums1: List[int], nums2: List[int]) -> List[int]:\n",
    "        num1 = collections.Counter(nums1)\n",
    "        num2 = collections.Counter(nums2)\n",
    "        num = num1 & num2\n",
    "        return num.elements()"
   ]
  },
  {
   "cell_type": "code",
   "execution_count": null,
   "metadata": {},
   "outputs": [],
   "source": []
  }
 ],
 "metadata": {
  "kernelspec": {
   "display_name": "Python 3",
   "language": "python",
   "name": "python3"
  },
  "language_info": {
   "codemirror_mode": {
    "name": "ipython",
    "version": 3
   },
   "file_extension": ".py",
   "mimetype": "text/x-python",
   "name": "python",
   "nbconvert_exporter": "python",
   "pygments_lexer": "ipython3",
   "version": "3.6.9"
  }
 },
 "nbformat": 4,
 "nbformat_minor": 2
}
