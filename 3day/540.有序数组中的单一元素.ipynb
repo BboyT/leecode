{
 "cells": [
  {
   "cell_type": "markdown",
   "metadata": {},
   "source": [
    "给定一个只包含整数的有序数组，每个元素都会出现两次，唯有一个数只会出现一次，找出这个数。"
   ]
  },
  {
   "cell_type": "markdown",
   "metadata": {},
   "source": [
    "### 示例 1:"
   ]
  },
  {
   "cell_type": "markdown",
   "metadata": {},
   "source": [
    "输入: [1,1,2,3,3,4,4,8,8]\n",
    "\n",
    "输出: 2"
   ]
  },
  {
   "cell_type": "markdown",
   "metadata": {},
   "source": [
    "### 示例 2:"
   ]
  },
  {
   "cell_type": "markdown",
   "metadata": {},
   "source": [
    "输入: [3,3,7,7,10,11,11]\n",
    "\n",
    "输出: 10"
   ]
  },
  {
   "cell_type": "markdown",
   "metadata": {},
   "source": [
    "## 注意: 您的方案应该在 O(log n)时间复杂度和 O(1)空间复杂度中运行。"
   ]
  },
  {
   "cell_type": "code",
   "execution_count": null,
   "metadata": {},
   "outputs": [],
   "source": [
    "def singleNonDuplicate(self, nums: List[int]) -> int:\n",
    "    lo = 0\n",
    "    hi = len(nums) - 1   \n",
    "    while lo < hi:\n",
    "        mid = lo + (hi - lo) // 2\n",
    "        halves_are_even = (hi - mid) % 2 == 0\n",
    "        if nums[mid + 1] == nums[mid]:\n",
    "            if halves_are_even:\n",
    "                lo = mid + 2\n",
    "            else:\n",
    "                hi = mid - 1\n",
    "        elif nums[mid - 1] == nums[mid]:\n",
    "            if halves_are_even:\n",
    "                hi = mid - 2\n",
    "            else:\n",
    "                lo = mid + 1\n",
    "        else:\n",
    "            return nums[mid]\n",
    "    return nums[lo]\n"
   ]
  },
  {
   "cell_type": "code",
   "execution_count": null,
   "metadata": {},
   "outputs": [],
   "source": [
    "def singleNonDuplicate(self, nums: List[int]) -> int:\n",
    "    lo = 0\n",
    "    hi = len(nums) - 1\n",
    "    while lo < hi:\n",
    "        mid = lo + (hi - lo) // 2\n",
    "        if mid % 2 == 1:\n",
    "            mid -= 1\n",
    "        if nums[mid] == nums[mid + 1]:\n",
    "            lo = mid + 2\n",
    "        else:\n",
    "            hi = mid\n",
    "    return nums[lo]"
   ]
  }
 ],
 "metadata": {
  "kernelspec": {
   "display_name": "Python 3",
   "language": "python",
   "name": "python3"
  },
  "language_info": {
   "codemirror_mode": {
    "name": "ipython",
    "version": 3
   },
   "file_extension": ".py",
   "mimetype": "text/x-python",
   "name": "python",
   "nbconvert_exporter": "python",
   "pygments_lexer": "ipython3",
   "version": "3.6.9"
  }
 },
 "nbformat": 4,
 "nbformat_minor": 2
}
