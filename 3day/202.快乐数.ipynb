{
 "cells": [
  {
   "cell_type": "markdown",
   "metadata": {},
   "source": [
    "编写一个算法来判断一个数 n 是不是快乐数。\n",
    "\n",
    "「快乐数」定义为：对于一个正整数，每一次将该数替换为它每个位置上的数字的平方和，然后重复这个过程直到这个数变为 1，也可能是 无限循环 但始终变不到 1。如果 可以变为  1，那么这个数就是快乐数。\n",
    "\n",
    "如果 n 是快乐数就返回 True ；不是，则返回 False 。\n"
   ]
  },
  {
   "cell_type": "markdown",
   "metadata": {},
   "source": [
    "### 示例"
   ]
  },
  {
   "cell_type": "markdown",
   "metadata": {},
   "source": [
    "输入：19\n",
    "\n",
    "输出：true\n",
    "\n",
    "解释：\n",
    "\n",
    "1^2 + 9^2 = 82\n",
    "\n",
    "8^2 + 2^2 = 68\n",
    "\n",
    "6^2 + 8^2 = 100\n",
    "\n",
    "1^2 + 0^2 + 0^2 = 1"
   ]
  },
  {
   "cell_type": "code",
   "execution_count": 8,
   "metadata": {},
   "outputs": [
    {
     "data": {
      "text/plain": [
       "False"
      ]
     },
     "execution_count": 8,
     "metadata": {},
     "output_type": "execute_result"
    }
   ],
   "source": [
    "def isHappy(n):\n",
    "    def get_next(n):\n",
    "        total_sum = 0\n",
    "        while n > 0:\n",
    "            n, digit = divmod(n, 10)\n",
    "            total_sum += digit ** 2\n",
    "        return total_sum\n",
    "\n",
    "    seen = set()\n",
    "    while n != 1 and n not in seen:\n",
    "        seen.add(n)\n",
    "        n = get_next(n)\n",
    "\n",
    "    return n == 1\n",
    "\n",
    "isHappy(11)"
   ]
  },
  {
   "cell_type": "code",
   "execution_count": 6,
   "metadata": {},
   "outputs": [
    {
     "data": {
      "text/plain": [
       "True"
      ]
     },
     "execution_count": 6,
     "metadata": {},
     "output_type": "execute_result"
    }
   ],
   "source": [
    "def isHappy(n):  \n",
    "    def get_next(number):\n",
    "        total_sum = 0\n",
    "        while number > 0:\n",
    "            number, digit = divmod(number, 10)\n",
    "            total_sum += digit ** 2\n",
    "        return total_sum\n",
    "\n",
    "    slow_runner = n\n",
    "    fast_runner = get_next(n)\n",
    "    while fast_runner != 1 and slow_runner != fast_runner:\n",
    "        slow_runner = get_next(slow_runner)\n",
    "        fast_runner = get_next(get_next(fast_runner))\n",
    "    return fast_runner == 1\n",
    "\n",
    "isHappy(19)"
   ]
  },
  {
   "cell_type": "code",
   "execution_count": 7,
   "metadata": {},
   "outputs": [
    {
     "data": {
      "text/plain": [
       "False"
      ]
     },
     "execution_count": 7,
     "metadata": {},
     "output_type": "execute_result"
    }
   ],
   "source": [
    "def isHappy(n):\n",
    "\n",
    "    cycle_members = {4, 16, 37, 58, 89, 145, 42, 20}\n",
    "\n",
    "    def get_next(number):\n",
    "        total_sum = 0\n",
    "        while number > 0:\n",
    "            number, digit = divmod(number, 10)\n",
    "            total_sum += digit ** 2\n",
    "        return total_sum\n",
    "\n",
    "    while n != 1 and n not in cycle_members:\n",
    "        n = get_next(n)\n",
    "\n",
    "    return n == 1\n",
    "isHappy(11)"
   ]
  }
 ],
 "metadata": {
  "kernelspec": {
   "display_name": "Python 3",
   "language": "python",
   "name": "python3"
  },
  "language_info": {
   "codemirror_mode": {
    "name": "ipython",
    "version": 3
   },
   "file_extension": ".py",
   "mimetype": "text/x-python",
   "name": "python",
   "nbconvert_exporter": "python",
   "pygments_lexer": "ipython3",
   "version": "3.6.9"
  }
 },
 "nbformat": 4,
 "nbformat_minor": 2
}
