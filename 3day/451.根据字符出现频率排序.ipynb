{
 "cells": [
  {
   "cell_type": "markdown",
   "metadata": {},
   "source": [
    "给定一个字符串，请将字符串里的字符按照出现的频率降序排列。"
   ]
  },
  {
   "cell_type": "markdown",
   "metadata": {},
   "source": [
    "### 示例 1:"
   ]
  },
  {
   "cell_type": "markdown",
   "metadata": {},
   "source": [
    "输入:\n",
    "\"tree\"\n",
    "\n",
    "输出:\n",
    "\"eert\"\n",
    "\n",
    "解释:\n",
    "\n",
    "'e'出现两次，'r'和't'都只出现一次。\n",
    "\n",
    "因此'e'必须出现在'r'和't'之前。此外，\"eetr\"也是一个有效的答案\n"
   ]
  },
  {
   "cell_type": "markdown",
   "metadata": {},
   "source": [
    "### 示例 2:"
   ]
  },
  {
   "cell_type": "markdown",
   "metadata": {},
   "source": [
    "输入:\n",
    "\"cccaaa\"\n",
    "\n",
    "输出:\n",
    "\"cccaaa\"\n",
    "\n",
    "解释:\n",
    "\n",
    "'c'和'a'都出现三次。此外，\"aaaccc\"也是有效的答案。\n",
    "\n",
    "注意\"cacaca\"是不正确的，因为相同的字母必须放在一起。\n"
   ]
  },
  {
   "cell_type": "markdown",
   "metadata": {},
   "source": [
    "### 示例 3:"
   ]
  },
  {
   "cell_type": "markdown",
   "metadata": {},
   "source": [
    "输入:\n",
    "\"Aabb\"\n",
    "\n",
    "输出:\n",
    "\"bbAa\"\n",
    "\n",
    "解释:\n",
    "\n",
    "此外，\"bbaA\"也是一个有效的答案，但\"Aabb\"是不正确的。\n",
    "\n",
    "注意'A'和'a'被认为是两种不同的字符。\n"
   ]
  },
  {
   "cell_type": "code",
   "execution_count": null,
   "metadata": {},
   "outputs": [],
   "source": [
    "class Solution:\n",
    "    def frequencySort(self, s: str) -> str:\n",
    "        # 大顶堆\n",
    "        countFrequency = collections.defaultdict(int)\n",
    "        for i in s:\n",
    "            countFrequency[i] += 1\n",
    "        lst = []\n",
    "        heapq.heapify(lst)\n",
    "        for i in countFrequency:\n",
    "            for j in range(countFrequency[i]):\n",
    "                heapq.heappush(lst, (-countFrequency[i], i))\n",
    "        \n",
    "        return ''.join([heapq.heappop(lst)[1] for _ in range(len(s))])\n",
    "\n",
    "作者：cui-jin-hao-_official"
   ]
  },
  {
   "cell_type": "code",
   "execution_count": null,
   "metadata": {},
   "outputs": [],
   "source": [
    "class Solution:\n",
    "    def frequencySort(self, s: str) -> str:\n",
    "        # 桶排序\n",
    "        ret = []\n",
    "        countFrequency = collections.defaultdict(int)\n",
    "        for i in s:\n",
    "            countFrequency[i] += 1\n",
    "        buckets = [[] for _ in range(len(s) + 1)]\n",
    "        for i in countFrequency:\n",
    "            buckets[countFrequency[i]].extend(i*countFrequency[i])\n",
    "        for i in buckets[::-1]:\n",
    "            if(i):\n",
    "                ret.extend(i)\n",
    "        return ''.join(ret)\n"
   ]
  },
  {
   "cell_type": "code",
   "execution_count": null,
   "metadata": {},
   "outputs": [],
   "source": [
    "class Solution:\n",
    "    def frequencySort(self, s: str) -> str:\n",
    "        # Counter\n",
    "        return ''.join([i * j for i, j in collections.Counter(s).most_common()])"
   ]
  },
  {
   "cell_type": "code",
   "execution_count": null,
   "metadata": {},
   "outputs": [],
   "source": []
  }
 ],
 "metadata": {
  "kernelspec": {
   "display_name": "Python 3",
   "language": "python",
   "name": "python3"
  },
  "language_info": {
   "codemirror_mode": {
    "name": "ipython",
    "version": 3
   },
   "file_extension": ".py",
   "mimetype": "text/x-python",
   "name": "python",
   "nbconvert_exporter": "python",
   "pygments_lexer": "ipython3",
   "version": "3.6.9"
  }
 },
 "nbformat": 4,
 "nbformat_minor": 2
}
