{
 "cells": [
  {
   "cell_type": "markdown",
   "metadata": {},
   "source": [
    "给定一个非负整数数组和一个整数 m，你需要将这个数组分成 m 个非空的连续子数组。设计一个算法使得这 m 个子数组各自和的最大值最小。"
   ]
  },
  {
   "cell_type": "markdown",
   "metadata": {},
   "source": [
    "### 示例:"
   ]
  },
  {
   "cell_type": "markdown",
   "metadata": {},
   "source": [
    "输入:\n",
    "\n",
    "nums = [7,2,5,10,8]\n",
    "\n",
    "m = 2\n",
    "\n",
    "输出:\n",
    "\n",
    "18\n",
    "\n",
    "解释:\n",
    "\n",
    "一共有四种方法将nums分割为2个子数组。\n",
    "\n",
    "其中最好的方式是将其分为[7,2,5] 和 [10,8]，\n",
    "\n",
    "因为此时这两个子数组各自的和的最大值为18，在所有情况中最小。"
   ]
  },
  {
   "cell_type": "code",
   "execution_count": null,
   "metadata": {},
   "outputs": [],
   "source": [
    "class Solution:\n",
    "    def splitArray(self, nums: List[int], m: int) -> int:\n",
    "        n = len(nums)\n",
    "        f = [[10**18] * (m + 1) for _ in range(n + 1)]\n",
    "        sub = [0]\n",
    "        for elem in nums:\n",
    "            sub.append(sub[-1] + elem)\n",
    "        \n",
    "        f[0][0] = 0\n",
    "        for i in range(1, n + 1):\n",
    "            for j in range(1, min(i, m) + 1):\n",
    "                for k in range(i):\n",
    "                    f[i][j] = min(f[i][j], max(f[k][j - 1], sub[i] - sub[k]))\n",
    "        \n",
    "        return f[n][m]"
   ]
  },
  {
   "cell_type": "code",
   "execution_count": null,
   "metadata": {},
   "outputs": [],
   "source": [
    "class Solution:\n",
    "    def splitArray(self, nums: List[int], m: int) -> int:\n",
    "        def check(x: int) -> bool:\n",
    "            total, cnt = 0, 1\n",
    "            for num in nums:\n",
    "                if total + num > x:\n",
    "                    cnt += 1\n",
    "                    total = num\n",
    "                else:\n",
    "                    total += num\n",
    "            return cnt <= m\n",
    "\n",
    "\n",
    "        left = max(nums)\n",
    "        right = sum(nums)\n",
    "        while left < right:\n",
    "            mid = (left + right) // 2\n",
    "            if check(mid):\n",
    "                right = mid\n",
    "            else:\n",
    "                left = mid + 1\n",
    "\n",
    "        return left\n"
   ]
  },
  {
   "cell_type": "code",
   "execution_count": null,
   "metadata": {},
   "outputs": [],
   "source": []
  },
  {
   "cell_type": "code",
   "execution_count": null,
   "metadata": {},
   "outputs": [],
   "source": []
  }
 ],
 "metadata": {
  "kernelspec": {
   "display_name": "Python 3",
   "language": "python",
   "name": "python3"
  },
  "language_info": {
   "codemirror_mode": {
    "name": "ipython",
    "version": 3
   },
   "file_extension": ".py",
   "mimetype": "text/x-python",
   "name": "python",
   "nbconvert_exporter": "python",
   "pygments_lexer": "ipython3",
   "version": "3.6.9"
  }
 },
 "nbformat": 4,
 "nbformat_minor": 2
}
